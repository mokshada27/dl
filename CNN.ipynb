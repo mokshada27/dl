{
 "cells": [
  {
   "cell_type": "code",
   "execution_count": 2,
   "id": "f59f1a07",
   "metadata": {},
   "outputs": [
    {
     "name": "stdout",
     "output_type": "stream",
     "text": [
      "Downloading data from https://storage.googleapis.com/tensorflow/tf-keras-datasets/train-labels-idx1-ubyte.gz\n",
      "29515/29515 [==============================] - 0s 4us/step\n",
      "Downloading data from https://storage.googleapis.com/tensorflow/tf-keras-datasets/train-images-idx3-ubyte.gz\n",
      "26421880/26421880 [==============================] - 66s 2us/step\n",
      "Downloading data from https://storage.googleapis.com/tensorflow/tf-keras-datasets/t10k-labels-idx1-ubyte.gz\n",
      "5148/5148 [==============================] - 0s 0s/step\n",
      "Downloading data from https://storage.googleapis.com/tensorflow/tf-keras-datasets/t10k-images-idx3-ubyte.gz\n",
      "4422102/4422102 [==============================] - 3s 1us/step\n"
     ]
    }
   ],
   "source": [
    "from keras.datasets import fashion_mnist\n",
    "(x_train,y_train),(x_test,y_test)=fashion_mnist.load_data()"
   ]
  },
  {
   "cell_type": "code",
   "execution_count": 3,
   "id": "f3ffdbbc",
   "metadata": {},
   "outputs": [
    {
     "name": "stdout",
     "output_type": "stream",
     "text": [
      "Training Data Shape:  (60000, 28, 28) (60000,)\n",
      "Testing Data Shape:  (10000, 28, 28) (10000,)\n"
     ]
    }
   ],
   "source": [
    "import numpy as np\n",
    "from keras.utils import to_categorical\n",
    "import matplotlib.pyplot as plt\n",
    "%matplotlib inline\n",
    "\n",
    "print('Training Data Shape: ',x_train.shape, y_train.shape)\n",
    "\n",
    "print('Testing Data Shape: ',x_test.shape, y_test.shape)"
   ]
  },
  {
   "cell_type": "code",
   "execution_count": 4,
   "id": "2217ffa3",
   "metadata": {},
   "outputs": [
    {
     "name": "stdout",
     "output_type": "stream",
     "text": [
      "Total number of outputs :  10\n",
      "Output classes :  [0 1 2 3 4 5 6 7 8 9]\n"
     ]
    }
   ],
   "source": [
    "classes=np.unique(y_train)\n",
    "print('Total number of outputs : ', len(classes))\n",
    "print('Output classes : ', classes)"
   ]
  },
  {
   "cell_type": "code",
   "execution_count": 6,
   "id": "1b18179d",
   "metadata": {},
   "outputs": [
    {
     "data": {
      "text/plain": [
       "((60000, 28, 28, 1), (10000, 28, 28, 1))"
      ]
     },
     "execution_count": 6,
     "metadata": {},
     "output_type": "execute_result"
    }
   ],
   "source": [
    "x_train=x_train.reshape(-1,28,28,1)\n",
    "x_test=x_test.reshape(-1,28,28,1)\n",
    "x_train.shape, x_test.shape"
   ]
  },
  {
   "cell_type": "code",
   "execution_count": 9,
   "id": "10efd32b",
   "metadata": {},
   "outputs": [
    {
     "data": {
      "text/plain": [
       "(dtype('uint8'), dtype('uint8'))"
      ]
     },
     "execution_count": 9,
     "metadata": {},
     "output_type": "execute_result"
    }
   ],
   "source": [
    "x_train.dtype, x_test.dtype"
   ]
  },
  {
   "cell_type": "code",
   "execution_count": 10,
   "id": "04b55a6e",
   "metadata": {},
   "outputs": [],
   "source": [
    "x_train=x_train.astype('float32')\n",
    "x_test=x_test.astype('float32')\n",
    "x_train=x_train/255\n",
    "x_test=x_test/255"
   ]
  },
  {
   "cell_type": "code",
   "execution_count": 12,
   "id": "3c73f293",
   "metadata": {},
   "outputs": [
    {
     "name": "stdout",
     "output_type": "stream",
     "text": [
      "Original label: 9\n",
      "After conversion to one-hot: [0. 0. 0. 0. 0. 0. 0. 0. 0. 1.]\n"
     ]
    }
   ],
   "source": [
    "# Change the labels from categorical to one-hot encoding\n",
    "y_train_ohe=to_categorical(y_train)\n",
    "y_test_ohe=to_categorical(y_test)\n",
    "\n",
    "# Display the change for category label using one-hot encoding\n",
    "print('Original label:', y_train[0])\n",
    "print('After conversion to one-hot:', y_train_ohe[0])"
   ]
  },
  {
   "cell_type": "code",
   "execution_count": 13,
   "id": "bde0b247",
   "metadata": {},
   "outputs": [],
   "source": [
    "from sklearn.model_selection import train_test_split\n",
    "x_train, x_val, y_train, y_val=train_test_split(x_train, y_train_ohe, test_size=0.2, random_state=13)"
   ]
  },
  {
   "cell_type": "code",
   "execution_count": 14,
   "id": "39591d8c",
   "metadata": {},
   "outputs": [
    {
     "data": {
      "text/plain": [
       "((48000, 28, 28, 1), (12000, 28, 28, 1), (48000, 10), (12000, 10))"
      ]
     },
     "execution_count": 14,
     "metadata": {},
     "output_type": "execute_result"
    }
   ],
   "source": [
    "x_train.shape, x_val.shape, y_train.shape, y_val.shape"
   ]
  },
  {
   "cell_type": "code",
   "execution_count": 16,
   "id": "7a431f63",
   "metadata": {},
   "outputs": [],
   "source": [
    "import keras\n",
    "from keras.models import Sequential\n",
    "from keras.layers import Conv2D,MaxPooling2D, Dense, Dropout, Flatten\n",
    "from keras.layers import BatchNormalization\n",
    "from keras.layers import LeakyReLU"
   ]
  },
  {
   "cell_type": "code",
   "execution_count": 17,
   "id": "88198caf",
   "metadata": {},
   "outputs": [],
   "source": [
    "batch_size=64\n",
    "epochs=20\n",
    "num_classes=10"
   ]
  },
  {
   "cell_type": "code",
   "execution_count": 21,
   "id": "a65d4293",
   "metadata": {},
   "outputs": [],
   "source": [
    "fashion_model=Sequential()\n",
    "fashion_model.add(Conv2D(32,kernel_size=(3,3), activation='linear',padding='same', input_shape=(28,28,1)))\n",
    "fashion_model.add(LeakyReLU(alpha=0.1))\n",
    "fashion_model.add(MaxPooling2D(pool_size=(2,2), padding='same'))\n",
    "fashion_model.add(Dropout(0.25))\n",
    "fashion_model.add(Conv2D(64, kernel_size=(3,3), activation='linear', padding='same'))\n",
    "fashion_model.add(LeakyReLU(alpha=0.1))\n",
    "fashion_model.add(MaxPooling2D(pool_size=(2,2), padding='same'))\n",
    "fashion_model.add(Dropout(0.25))\n",
    "fashion_model.add(Conv2D(128,kernel_size=(3,3), activation='linear', padding='same'))\n",
    "fashion_model.add(LeakyReLU(alpha=0.1))\n",
    "fashion_model.add(MaxPooling2D(pool_size=(2,2), padding='same'))\n",
    "fashion_model.add(Dropout(0.40))\n",
    "fashion_model.add(Flatten())\n",
    "fashion_model.add(Dense(128, activation='linear'))\n",
    "fashion_model.add(Dropout(0.30))\n",
    "fashion_model.add(Dense(num_classes, activation='softmax'))"
   ]
  },
  {
   "cell_type": "code",
   "execution_count": 22,
   "id": "690f55f6",
   "metadata": {},
   "outputs": [
    {
     "name": "stdout",
     "output_type": "stream",
     "text": [
      "Model: \"sequential_2\"\n",
      "_________________________________________________________________\n",
      " Layer (type)                Output Shape              Param #   \n",
      "=================================================================\n",
      " conv2d_2 (Conv2D)           (None, 28, 28, 32)        320       \n",
      "                                                                 \n",
      " leaky_re_lu_2 (LeakyReLU)   (None, 28, 28, 32)        0         \n",
      "                                                                 \n",
      " max_pooling2d (MaxPooling2D  (None, 14, 14, 32)       0         \n",
      " )                                                               \n",
      "                                                                 \n",
      " dropout (Dropout)           (None, 14, 14, 32)        0         \n",
      "                                                                 \n",
      " conv2d_3 (Conv2D)           (None, 14, 14, 64)        18496     \n",
      "                                                                 \n",
      " leaky_re_lu_3 (LeakyReLU)   (None, 14, 14, 64)        0         \n",
      "                                                                 \n",
      " max_pooling2d_1 (MaxPooling  (None, 7, 7, 64)         0         \n",
      " 2D)                                                             \n",
      "                                                                 \n",
      " dropout_1 (Dropout)         (None, 7, 7, 64)          0         \n",
      "                                                                 \n",
      " conv2d_4 (Conv2D)           (None, 7, 7, 128)         73856     \n",
      "                                                                 \n",
      " leaky_re_lu_4 (LeakyReLU)   (None, 7, 7, 128)         0         \n",
      "                                                                 \n",
      " max_pooling2d_2 (MaxPooling  (None, 4, 4, 128)        0         \n",
      " 2D)                                                             \n",
      "                                                                 \n",
      " dropout_2 (Dropout)         (None, 4, 4, 128)         0         \n",
      "                                                                 \n",
      " flatten (Flatten)           (None, 2048)              0         \n",
      "                                                                 \n",
      " dense (Dense)               (None, 128)               262272    \n",
      "                                                                 \n",
      " dropout_3 (Dropout)         (None, 128)               0         \n",
      "                                                                 \n",
      " dense_1 (Dense)             (None, 10)                1290      \n",
      "                                                                 \n",
      "=================================================================\n",
      "Total params: 356,234\n",
      "Trainable params: 356,234\n",
      "Non-trainable params: 0\n",
      "_________________________________________________________________\n"
     ]
    }
   ],
   "source": [
    "fashion_model.summary()"
   ]
  },
  {
   "cell_type": "code",
   "execution_count": 23,
   "id": "4509227e",
   "metadata": {},
   "outputs": [],
   "source": [
    "fashion_model.compile(optimizer='Adam', loss='categorical_crossentropy', metrics=['accuracy'])"
   ]
  },
  {
   "cell_type": "code",
   "execution_count": 24,
   "id": "49dc52f5",
   "metadata": {},
   "outputs": [
    {
     "name": "stdout",
     "output_type": "stream",
     "text": [
      "Epoch 1/20\n",
      "750/750 [==============================] - 33s 43ms/step - loss: 0.5915 - accuracy: 0.7820 - val_loss: 0.3764 - val_accuracy: 0.8617\n",
      "Epoch 2/20\n",
      "750/750 [==============================] - 33s 44ms/step - loss: 0.3780 - accuracy: 0.8632 - val_loss: 0.3108 - val_accuracy: 0.8869\n",
      "Epoch 3/20\n",
      "750/750 [==============================] - 31s 41ms/step - loss: 0.3296 - accuracy: 0.8784 - val_loss: 0.2772 - val_accuracy: 0.9019\n",
      "Epoch 4/20\n",
      "750/750 [==============================] - 31s 41ms/step - loss: 0.3030 - accuracy: 0.8888 - val_loss: 0.2676 - val_accuracy: 0.9027\n",
      "Epoch 5/20\n",
      "750/750 [==============================] - 31s 41ms/step - loss: 0.2863 - accuracy: 0.8960 - val_loss: 0.2514 - val_accuracy: 0.9090\n",
      "Epoch 6/20\n",
      "750/750 [==============================] - 31s 42ms/step - loss: 0.2750 - accuracy: 0.9000 - val_loss: 0.2532 - val_accuracy: 0.9125\n",
      "Epoch 7/20\n",
      "750/750 [==============================] - 31s 42ms/step - loss: 0.2653 - accuracy: 0.9025 - val_loss: 0.2444 - val_accuracy: 0.9102\n",
      "Epoch 8/20\n",
      "750/750 [==============================] - 32s 43ms/step - loss: 0.2557 - accuracy: 0.9047 - val_loss: 0.2357 - val_accuracy: 0.9145\n",
      "Epoch 9/20\n",
      "750/750 [==============================] - 33s 44ms/step - loss: 0.2511 - accuracy: 0.9075 - val_loss: 0.2417 - val_accuracy: 0.9116\n",
      "Epoch 10/20\n",
      "750/750 [==============================] - 32s 42ms/step - loss: 0.2479 - accuracy: 0.9097 - val_loss: 0.2233 - val_accuracy: 0.9186\n",
      "Epoch 11/20\n",
      "750/750 [==============================] - 32s 43ms/step - loss: 0.2445 - accuracy: 0.9116 - val_loss: 0.2240 - val_accuracy: 0.9197\n",
      "Epoch 12/20\n",
      "750/750 [==============================] - 32s 42ms/step - loss: 0.2386 - accuracy: 0.9130 - val_loss: 0.2322 - val_accuracy: 0.9207\n",
      "Epoch 13/20\n",
      "750/750 [==============================] - 31s 42ms/step - loss: 0.2336 - accuracy: 0.9129 - val_loss: 0.2351 - val_accuracy: 0.9160\n",
      "Epoch 14/20\n",
      "750/750 [==============================] - 31s 42ms/step - loss: 0.2313 - accuracy: 0.9147 - val_loss: 0.2206 - val_accuracy: 0.9212\n",
      "Epoch 15/20\n",
      "750/750 [==============================] - 32s 42ms/step - loss: 0.2295 - accuracy: 0.9149 - val_loss: 0.2174 - val_accuracy: 0.9241\n",
      "Epoch 16/20\n",
      "750/750 [==============================] - 32s 42ms/step - loss: 0.2235 - accuracy: 0.9171 - val_loss: 0.2253 - val_accuracy: 0.9200\n",
      "Epoch 17/20\n",
      "750/750 [==============================] - 32s 42ms/step - loss: 0.2215 - accuracy: 0.9178 - val_loss: 0.2146 - val_accuracy: 0.9230\n",
      "Epoch 18/20\n",
      "750/750 [==============================] - 32s 42ms/step - loss: 0.2198 - accuracy: 0.9179 - val_loss: 0.2164 - val_accuracy: 0.9235\n",
      "Epoch 19/20\n",
      "750/750 [==============================] - 32s 43ms/step - loss: 0.2167 - accuracy: 0.9208 - val_loss: 0.2189 - val_accuracy: 0.9250\n",
      "Epoch 20/20\n",
      "750/750 [==============================] - 32s 43ms/step - loss: 0.2136 - accuracy: 0.9196 - val_loss: 0.2083 - val_accuracy: 0.9272\n"
     ]
    },
    {
     "data": {
      "text/plain": [
       "<keras.callbacks.History at 0x192b4b8f3d0>"
      ]
     },
     "execution_count": 24,
     "metadata": {},
     "output_type": "execute_result"
    }
   ],
   "source": [
    "fashion_model.fit(x_train,y_train,batch_size=64,epochs=20,verbose=1,validation_data=(x_val,y_val))"
   ]
  },
  {
   "cell_type": "code",
   "execution_count": 25,
   "id": "39a5b498",
   "metadata": {},
   "outputs": [
    {
     "name": "stdout",
     "output_type": "stream",
     "text": [
      "313/313 [==============================] - 2s 6ms/step - loss: 0.2219 - accuracy: 0.9213\n",
      "Test loss: 0.22192595899105072\n",
      "Test accuracy: 0.9212999939918518\n"
     ]
    }
   ],
   "source": [
    "score=fashion_model.evaluate(x_test,y_test_ohe,verbose=1)\n",
    "print('Test loss:', score[0])\n",
    "print('Test accuracy:', score[1])"
   ]
  },
  {
   "cell_type": "code",
   "execution_count": null,
   "id": "d0b199ae",
   "metadata": {},
   "outputs": [],
   "source": []
  }
 ],
 "metadata": {
  "kernelspec": {
   "display_name": "Python 3 (ipykernel)",
   "language": "python",
   "name": "python3"
  },
  "language_info": {
   "codemirror_mode": {
    "name": "ipython",
    "version": 3
   },
   "file_extension": ".py",
   "mimetype": "text/x-python",
   "name": "python",
   "nbconvert_exporter": "python",
   "pygments_lexer": "ipython3",
   "version": "3.9.13"
  }
 },
 "nbformat": 4,
 "nbformat_minor": 5
}
