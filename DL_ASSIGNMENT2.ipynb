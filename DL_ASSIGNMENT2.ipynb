{
  "nbformat": 4,
  "nbformat_minor": 0,
  "metadata": {
    "colab": {
      "provenance": []
    },
    "kernelspec": {
      "name": "python3",
      "display_name": "Python 3"
    },
    "language_info": {
      "name": "python"
    }
  },
  "cells": [
    {
      "cell_type": "code",
      "execution_count": null,
      "metadata": {
        "id": "PlUO66voOong"
      },
      "outputs": [],
      "source": [
        "from keras.datasets import imdb"
      ]
    },
    {
      "cell_type": "code",
      "source": [
        "# Load the data, keeping only 10,000 of the most frequently occuring words\n",
        "(train_data, train_labels), (test_data, test_labels) = imdb.load_data(num_words = 10000)"
      ],
      "metadata": {
        "id": "m2hd09B7QEQS"
      },
      "execution_count": null,
      "outputs": []
    },
    {
      "cell_type": "code",
      "source": [
        "print(train_data[0])\n"
      ],
      "metadata": {
        "colab": {
          "base_uri": "https://localhost:8080/"
        },
        "id": "du8NlTvHYPRR",
        "outputId": "7904185b-7365-4cb0-e93e-1ce31c49bab4"
      },
      "execution_count": null,
      "outputs": [
        {
          "output_type": "stream",
          "name": "stdout",
          "text": [
            "[1, 14, 22, 16, 43, 530, 973, 1622, 1385, 65, 458, 4468, 66, 3941, 4, 173, 36, 256, 5, 25, 100, 43, 838, 112, 50, 670, 2, 9, 35, 480, 284, 5, 150, 4, 172, 112, 167, 2, 336, 385, 39, 4, 172, 4536, 1111, 17, 546, 38, 13, 447, 4, 192, 50, 16, 6, 147, 2025, 19, 14, 22, 4, 1920, 4613, 469, 4, 22, 71, 87, 12, 16, 43, 530, 38, 76, 15, 13, 1247, 4, 22, 17, 515, 17, 12, 16, 626, 18, 2, 5, 62, 386, 12, 8, 316, 8, 106, 5, 4, 2223, 5244, 16, 480, 66, 3785, 33, 4, 130, 12, 16, 38, 619, 5, 25, 124, 51, 36, 135, 48, 25, 1415, 33, 6, 22, 12, 215, 28, 77, 52, 5, 14, 407, 16, 82, 2, 8, 4, 107, 117, 5952, 15, 256, 4, 2, 7, 3766, 5, 723, 36, 71, 43, 530, 476, 26, 400, 317, 46, 7, 4, 2, 1029, 13, 104, 88, 4, 381, 15, 297, 98, 32, 2071, 56, 26, 141, 6, 194, 7486, 18, 4, 226, 22, 21, 134, 476, 26, 480, 5, 144, 30, 5535, 18, 51, 36, 28, 224, 92, 25, 104, 4, 226, 65, 16, 38, 1334, 88, 12, 16, 283, 5, 16, 4472, 113, 103, 32, 15, 16, 5345, 19, 178, 32]\n"
          ]
        }
      ]
    },
    {
      "cell_type": "code",
      "source": [
        "print(train_labels[0])"
      ],
      "metadata": {
        "colab": {
          "base_uri": "https://localhost:8080/"
        },
        "id": "_-sDVfhaYiuq",
        "outputId": "6b8c8e60-46ac-445c-d705-0a3ee0f929da"
      },
      "execution_count": null,
      "outputs": [
        {
          "output_type": "stream",
          "name": "stdout",
          "text": [
            "1\n"
          ]
        }
      ]
    },
    {
      "cell_type": "code",
      "source": [
        "# Since we restricted ourselves to the top 10000 frequent words, no word index should exceed 10000\n",
        "# we'll verify this below\n",
        "\n",
        "# Here is a list of maximum indexes in every review --- we search the maximum index in this list of max indexes\n",
        "print(type([max(sequence) for sequence in train_data]))\n",
        "\n",
        "# Find the maximum of all max indexes\n",
        "max([max(sequence) for sequence in train_data])"
      ],
      "metadata": {
        "colab": {
          "base_uri": "https://localhost:8080/"
        },
        "id": "qJ3Z7BszQLeq",
        "outputId": "830bb2a6-96ab-49d8-ace3-d7083da30016"
      },
      "execution_count": null,
      "outputs": [
        {
          "output_type": "stream",
          "name": "stdout",
          "text": [
            "<class 'list'>\n"
          ]
        },
        {
          "output_type": "execute_result",
          "data": {
            "text/plain": [
              "9999"
            ]
          },
          "metadata": {},
          "execution_count": 57
        }
      ]
    },
    {
      "cell_type": "code",
      "source": [
        "# Let's quickly decode a review\n",
        "\n",
        "# step 1: load the dictionary mappings from word to integer index\n",
        "word_index = imdb.get_word_index()\n",
        "#print(word_index.items())\n",
        "# step 2: reverse word index to map integer indexes to their respective words\n",
        "reverse_word_index = dict([(value, key) for (key, value) in word_index.items()])\n",
        "\n",
        "# Step 3: decode the review, mapping integer indices to words\n",
        "#\n",
        "# indices are off by 3 because 0, 1, and 2 are reserverd indices for \"padding\", \"Start of sequence\" and \"unknown\"\n",
        "decoded_review = ' '.join([reverse_word_index.get(i-3, '?') for i in train_data[0]])\n",
        "\n",
        "decoded_review"
      ],
      "metadata": {
        "colab": {
          "base_uri": "https://localhost:8080/",
          "height": 140
        },
        "id": "7P0y-3UaQRiH",
        "outputId": "d56332d7-19c7-4e70-8315-15f642d4094a"
      },
      "execution_count": null,
      "outputs": [
        {
          "output_type": "execute_result",
          "data": {
            "text/plain": [
              "\"? this film was just brilliant casting location scenery story direction everyone's really suited the part they played and you could just imagine being there robert ? is an amazing actor and now the same being director ? father came from the same scottish island as myself so i loved the fact there was a real connection with this film the witty remarks throughout the film were great it was just brilliant so much that i bought the film as soon as it was released for ? and would recommend it to everyone to watch and the fly fishing was amazing really cried at the end it was so sad and you know what they say if you cry at a film it must have been good and this definitely was also ? to the two little boy's that played the ? of norman and paul they were just brilliant children are often left out of the ? list i think because the stars that play them all grown up are such a big profile for the whole film but these children are amazing and should be praised for what they have done don't you think the whole story was so lovely because it was true and was someone's life after all that was shared with us all\""
            ],
            "application/vnd.google.colaboratory.intrinsic+json": {
              "type": "string"
            }
          },
          "metadata": {},
          "execution_count": 58
        }
      ]
    },
    {
      "cell_type": "markdown",
      "source": [
        "Vectorize input data"
      ],
      "metadata": {
        "id": "6Y1k43PcRVX1"
      }
    },
    {
      "cell_type": "code",
      "source": [
        "#one hot encoding of each word\n",
        "import numpy as np\n",
        "\n",
        "def vectorize_sequences(sequences, dimension=10000):\n",
        "    results = np.zeros((len(sequences), dimension))    # Creates an all zero matrix of shape (len(sequences),10K)\n",
        "    for i,sequence in enumerate(sequences):\n",
        "        results[i,sequence] = 1                        # Sets specific indices of results[i] to 1s\n",
        "    return results\n",
        "\n",
        "# Vectorize training Data\n",
        "X_train = vectorize_sequences(train_data)\n",
        "\n",
        "# Vectorize testing Data\n",
        "X_test = vectorize_sequences(test_data)"
      ],
      "metadata": {
        "id": "8_0AImA8RJsg"
      },
      "execution_count": null,
      "outputs": []
    },
    {
      "cell_type": "code",
      "source": [
        "X_train[0]"
      ],
      "metadata": {
        "colab": {
          "base_uri": "https://localhost:8080/"
        },
        "id": "RA1fzGRJROtX",
        "outputId": "938f7819-43ea-44eb-ab93-58a980efcc06"
      },
      "execution_count": null,
      "outputs": [
        {
          "output_type": "execute_result",
          "data": {
            "text/plain": [
              "array([0., 1., 1., ..., 0., 0., 0.])"
            ]
          },
          "metadata": {},
          "execution_count": 60
        }
      ]
    },
    {
      "cell_type": "code",
      "source": [
        "X_train.shape"
      ],
      "metadata": {
        "colab": {
          "base_uri": "https://localhost:8080/"
        },
        "id": "XpDvUKjeRRWg",
        "outputId": "210cbd4e-853d-4a80-da9f-288a6374c3c6"
      },
      "execution_count": null,
      "outputs": [
        {
          "output_type": "execute_result",
          "data": {
            "text/plain": [
              "(25000, 10000)"
            ]
          },
          "metadata": {},
          "execution_count": 61
        }
      ]
    },
    {
      "cell_type": "code",
      "source": [
        "y_train = np.asarray(train_labels).astype('float32')\n",
        "y_test  = np.asarray(test_labels).astype('float32')"
      ],
      "metadata": {
        "id": "4nMpd5CnRTuE"
      },
      "execution_count": null,
      "outputs": []
    },
    {
      "cell_type": "code",
      "source": [
        "print(y_train.shape)\n",
        "print(y_test.shape)"
      ],
      "metadata": {
        "colab": {
          "base_uri": "https://localhost:8080/"
        },
        "id": "s_YYowm1avn0",
        "outputId": "a36b2a31-731f-43a8-bec5-59cab54b0bde"
      },
      "execution_count": null,
      "outputs": [
        {
          "output_type": "stream",
          "name": "stdout",
          "text": [
            "(25000,)\n",
            "(25000,)\n"
          ]
        }
      ]
    },
    {
      "cell_type": "code",
      "source": [
        "#Model definition\n",
        "from keras import models\n",
        "from keras import layers\n",
        "\n",
        "model = models.Sequential()\n",
        "model.add(layers.Dense(16, activation='relu', input_shape=(10000,)))\n",
        "model.add(layers.Dense(16, activation='relu'))\n",
        "model.add(layers.Dense(1, activation='sigmoid'))"
      ],
      "metadata": {
        "id": "yqP3aIBcRczv"
      },
      "execution_count": null,
      "outputs": []
    },
    {
      "cell_type": "code",
      "source": [
        "#Compiling the model\n",
        "from keras import optimizers\n",
        "from keras import losses\n",
        "from keras import metrics\n",
        "\n",
        "model.compile(optimizer=optimizers.RMSprop(lr=0.001),\n",
        "              loss = losses.binary_crossentropy,\n",
        "              metrics = [metrics.binary_accuracy])\n"
      ],
      "metadata": {
        "colab": {
          "base_uri": "https://localhost:8080/"
        },
        "id": "cOyF9c7mRtpe",
        "outputId": "d1133c0e-223e-413f-b57c-e6eda05efdf7"
      },
      "execution_count": null,
      "outputs": [
        {
          "output_type": "stream",
          "name": "stderr",
          "text": [
            "/usr/local/lib/python3.8/dist-packages/keras/optimizers/optimizer_v2/rmsprop.py:143: UserWarning: The `lr` argument is deprecated, use `learning_rate` instead.\n",
            "  super().__init__(name, **kwargs)\n"
          ]
        }
      ]
    },
    {
      "cell_type": "code",
      "source": [
        "#Setting up Validation\n",
        "# Input for Validation\n",
        "X_val = X_train[:10000]\n",
        "partial_X_train = X_train[10000:]\n",
        "\n",
        "# Labels for validation\n",
        "y_val = y_train[:10000]\n",
        "partial_y_train = y_train[10000:]"
      ],
      "metadata": {
        "id": "RmLMtsE6R5vG"
      },
      "execution_count": null,
      "outputs": []
    },
    {
      "cell_type": "code",
      "source": [
        "#Training our model\n",
        "history = model.fit(partial_X_train,\n",
        "                   partial_y_train,\n",
        "                   epochs=20,\n",
        "                   batch_size=512,\n",
        "                   validation_data=(X_val,y_val))"
      ],
      "metadata": {
        "colab": {
          "base_uri": "https://localhost:8080/"
        },
        "id": "q2Bi5XZmR_xR",
        "outputId": "5f9fa36e-9187-4142-b8e8-3cd6ff350fbc"
      },
      "execution_count": null,
      "outputs": [
        {
          "output_type": "stream",
          "name": "stdout",
          "text": [
            "Epoch 1/20\n",
            "30/30 [==============================] - 4s 84ms/step - loss: 0.5167 - binary_accuracy: 0.7948 - val_loss: 0.3972 - val_binary_accuracy: 0.8600\n",
            "Epoch 2/20\n",
            "30/30 [==============================] - 1s 45ms/step - loss: 0.3153 - binary_accuracy: 0.9010 - val_loss: 0.3251 - val_binary_accuracy: 0.8779\n",
            "Epoch 3/20\n",
            "30/30 [==============================] - 1s 45ms/step - loss: 0.2318 - binary_accuracy: 0.9277 - val_loss: 0.3152 - val_binary_accuracy: 0.8744\n",
            "Epoch 4/20\n",
            "30/30 [==============================] - 1s 46ms/step - loss: 0.1830 - binary_accuracy: 0.9429 - val_loss: 0.2945 - val_binary_accuracy: 0.8796\n",
            "Epoch 5/20\n",
            "30/30 [==============================] - 2s 56ms/step - loss: 0.1475 - binary_accuracy: 0.9564 - val_loss: 0.2828 - val_binary_accuracy: 0.8880\n",
            "Epoch 6/20\n",
            "30/30 [==============================] - 2s 75ms/step - loss: 0.1233 - binary_accuracy: 0.9632 - val_loss: 0.2920 - val_binary_accuracy: 0.8878\n",
            "Epoch 7/20\n",
            "30/30 [==============================] - 1s 45ms/step - loss: 0.1001 - binary_accuracy: 0.9711 - val_loss: 0.3078 - val_binary_accuracy: 0.8820\n",
            "Epoch 8/20\n",
            "30/30 [==============================] - 1s 41ms/step - loss: 0.0832 - binary_accuracy: 0.9773 - val_loss: 0.3332 - val_binary_accuracy: 0.8776\n",
            "Epoch 9/20\n",
            "30/30 [==============================] - 2s 51ms/step - loss: 0.0677 - binary_accuracy: 0.9826 - val_loss: 0.3503 - val_binary_accuracy: 0.8774\n",
            "Epoch 10/20\n",
            "30/30 [==============================] - 2s 55ms/step - loss: 0.0529 - binary_accuracy: 0.9883 - val_loss: 0.3891 - val_binary_accuracy: 0.8767\n",
            "Epoch 11/20\n",
            "30/30 [==============================] - 1s 44ms/step - loss: 0.0433 - binary_accuracy: 0.9914 - val_loss: 0.3969 - val_binary_accuracy: 0.8757\n",
            "Epoch 12/20\n",
            "30/30 [==============================] - 1s 45ms/step - loss: 0.0331 - binary_accuracy: 0.9937 - val_loss: 0.4373 - val_binary_accuracy: 0.8776\n",
            "Epoch 13/20\n",
            "30/30 [==============================] - 2s 54ms/step - loss: 0.0254 - binary_accuracy: 0.9959 - val_loss: 0.4585 - val_binary_accuracy: 0.8765\n",
            "Epoch 14/20\n",
            "30/30 [==============================] - 3s 92ms/step - loss: 0.0195 - binary_accuracy: 0.9977 - val_loss: 0.4877 - val_binary_accuracy: 0.8709\n",
            "Epoch 15/20\n",
            "30/30 [==============================] - 2s 68ms/step - loss: 0.0153 - binary_accuracy: 0.9984 - val_loss: 0.5212 - val_binary_accuracy: 0.8716\n",
            "Epoch 16/20\n",
            "30/30 [==============================] - 3s 89ms/step - loss: 0.0139 - binary_accuracy: 0.9973 - val_loss: 0.5497 - val_binary_accuracy: 0.8701\n",
            "Epoch 17/20\n",
            "30/30 [==============================] - 2s 72ms/step - loss: 0.0065 - binary_accuracy: 0.9997 - val_loss: 0.6002 - val_binary_accuracy: 0.8622\n",
            "Epoch 18/20\n",
            "30/30 [==============================] - 2s 64ms/step - loss: 0.0094 - binary_accuracy: 0.9982 - val_loss: 0.6106 - val_binary_accuracy: 0.8685\n",
            "Epoch 19/20\n",
            "30/30 [==============================] - 2s 70ms/step - loss: 0.0036 - binary_accuracy: 0.9999 - val_loss: 0.6482 - val_binary_accuracy: 0.8634\n",
            "Epoch 20/20\n",
            "30/30 [==============================] - 2s 78ms/step - loss: 0.0069 - binary_accuracy: 0.9983 - val_loss: 0.6713 - val_binary_accuracy: 0.8669\n"
          ]
        }
      ]
    },
    {
      "cell_type": "code",
      "source": [
        "history_dict = history.history\n",
        "history_dict.keys()"
      ],
      "metadata": {
        "colab": {
          "base_uri": "https://localhost:8080/"
        },
        "id": "RiMPuwyKSeLJ",
        "outputId": "9d313888-08fc-4ff6-c900-890944a3d7d5"
      },
      "execution_count": null,
      "outputs": [
        {
          "output_type": "execute_result",
          "data": {
            "text/plain": [
              "dict_keys(['loss', 'binary_accuracy', 'val_loss', 'val_binary_accuracy'])"
            ]
          },
          "metadata": {},
          "execution_count": 70
        }
      ]
    },
    {
      "cell_type": "code",
      "source": [
        "import matplotlib.pyplot as plt\n",
        "%matplotlib inline"
      ],
      "metadata": {
        "id": "fXFMEgtdSslB"
      },
      "execution_count": null,
      "outputs": []
    },
    {
      "cell_type": "code",
      "source": [
        "# Plotting losses\n",
        "loss_values = history_dict['loss']\n",
        "val_loss_values = history_dict['val_loss']\n",
        "\n",
        "epochs = range(1, len(loss_values) + 1)\n",
        "\n",
        "plt.plot(epochs, loss_values, 'bo', label=\"Training Loss\")\n",
        "plt.plot(epochs, val_loss_values, 'b', label=\"Validation Loss\")\n",
        "\n",
        "plt.title('Training and Validation Loss')\n",
        "plt.xlabel('Epochs')\n",
        "plt.ylabel('Loss Value')\n",
        "plt.legend()\n",
        "\n",
        "plt.show()"
      ],
      "metadata": {
        "colab": {
          "base_uri": "https://localhost:8080/",
          "height": 295
        },
        "id": "hLtFd04JStdh",
        "outputId": "ff4fe14a-bcbc-4fb4-960a-1d4c77024986"
      },
      "execution_count": null,
      "outputs": [
        {
          "output_type": "display_data",
          "data": {
            "text/plain": [
              "<Figure size 432x288 with 1 Axes>"
            ],
            "image/png": "[encoded data removed]"
          },
          "metadata": {
            "needs_background": "light"
          }
        }
      ]
    },
    {
      "cell_type": "code",
      "source": [
        "# Training and Validation Accuracy\n",
        "\n",
        "acc_values = history_dict['binary_accuracy']\n",
        "val_acc_values = history_dict['val_binary_accuracy']\n",
        "\n",
        "epochs = range(1, len(loss_values) + 1)\n",
        "\n",
        "plt.plot(epochs, acc_values, 'ro', label=\"Training Accuracy\")\n",
        "plt.plot(epochs, val_acc_values, 'r', label=\"Validation Accuracy\")\n",
        "\n",
        "plt.title('Training and Validation Accuraccy')\n",
        "plt.xlabel('Epochs')\n",
        "plt.ylabel('Accuracy')\n",
        "plt.legend()\n",
        "\n",
        "plt.show()"
      ],
      "metadata": {
        "colab": {
          "base_uri": "https://localhost:8080/",
          "height": 295
        },
        "id": "jLGO_bBQSzrS",
        "outputId": "f0d6483f-8f26-4278-c9ec-82fee72e8bb7"
      },
      "execution_count": null,
      "outputs": [
        {
          "output_type": "display_data",
          "data": {
            "text/plain": [
              "<Figure size 432x288 with 1 Axes>"
            ],
            "image/png": "[encoded data removed]"
          },
          "metadata": {
            "needs_background": "light"
          }
        }
      ]
    },
    {
      "cell_type": "code",
      "source": [
        "#Retraining our model\n",
        "model.fit(partial_X_train,\n",
        "                   partial_y_train,\n",
        "                   epochs=3,\n",
        "                   batch_size=512,\n",
        "                   validation_data=(X_val, y_val))"
      ],
      "metadata": {
        "colab": {
          "base_uri": "https://localhost:8080/"
        },
        "id": "rUxlFph4THa_",
        "outputId": "51f87444-1150-4792-ba3f-33e768fa1b64"
      },
      "execution_count": null,
      "outputs": [
        {
          "output_type": "stream",
          "name": "stdout",
          "text": [
            "Epoch 1/3\n",
            "30/30 [==============================] - 2s 76ms/step - loss: 0.0020 - binary_accuracy: 0.9999 - val_loss: 0.6992 - val_binary_accuracy: 0.8671\n",
            "Epoch 2/3\n",
            "30/30 [==============================] - 1s 43ms/step - loss: 0.0022 - binary_accuracy: 0.9999 - val_loss: 0.7383 - val_binary_accuracy: 0.8624\n",
            "Epoch 3/3\n",
            "30/30 [==============================] - 1s 43ms/step - loss: 0.0012 - binary_accuracy: 0.9999 - val_loss: 0.7695 - val_binary_accuracy: 0.8644\n"
          ]
        },
        {
          "output_type": "execute_result",
          "data": {
            "text/plain": [
              "<keras.callbacks.History at 0x7f1495b16100>"
            ]
          },
          "metadata": {},
          "execution_count": 74
        }
      ]
    },
    {
      "cell_type": "code",
      "source": [
        "#Model Evaluation\n",
        "# Making Predictions for testing data\n",
        "np.set_printoptions(suppress=True)\n",
        "result = model.predict(X_test)"
      ],
      "metadata": {
        "colab": {
          "base_uri": "https://localhost:8080/"
        },
        "id": "7IkLHX2eTSE6",
        "outputId": "bff27fad-c0da-4ffa-f27a-ff355c93beff"
      },
      "execution_count": null,
      "outputs": [
        {
          "output_type": "stream",
          "name": "stdout",
          "text": [
            "782/782 [==============================] - 3s 3ms/step\n"
          ]
        }
      ]
    },
    {
      "cell_type": "code",
      "source": [
        "result"
      ],
      "metadata": {
        "colab": {
          "base_uri": "https://localhost:8080/"
        },
        "id": "loFUU8fUTVV4",
        "outputId": "12963e9f-57aa-4ea1-cf64-83257eaa467b"
      },
      "execution_count": null,
      "outputs": [
        {
          "output_type": "execute_result",
          "data": {
            "text/plain": [
              "array([[0.0029159 ],\n",
              "       [1.        ],\n",
              "       [0.9368664 ],\n",
              "       ...,\n",
              "       [0.00138323],\n",
              "       [0.01167707],\n",
              "       [0.93595177]], dtype=float32)"
            ]
          },
          "metadata": {},
          "execution_count": 76
        }
      ]
    },
    {
      "cell_type": "code",
      "source": [
        "y_pred = np.zeros(len(result))\n",
        "for i, score in enumerate(result):\n",
        "    y_pred[i] = 1 if score > 0.5 else 0"
      ],
      "metadata": {
        "id": "qJ-agOMJTZ5R"
      },
      "execution_count": null,
      "outputs": []
    },
    {
      "cell_type": "code",
      "source": [
        "from sklearn.metrics import mean_absolute_error\n",
        "mae = mean_absolute_error(y_pred, y_test)"
      ],
      "metadata": {
        "id": "a_jrDQaJTcyi"
      },
      "execution_count": null,
      "outputs": []
    },
    {
      "cell_type": "code",
      "source": [
        "from sklearn.metrics import confusion_matrix, accuracy_score, auc\n",
        "accuracy_score(y_test,y_pred)"
      ],
      "metadata": {
        "id": "JpEF1F8XTfVJ",
        "colab": {
          "base_uri": "https://localhost:8080/"
        },
        "outputId": "50969389-3f80-48c8-9b5f-417006a9eec1"
      },
      "execution_count": null,
      "outputs": [
        {
          "output_type": "execute_result",
          "data": {
            "text/plain": [
              "0.85144"
            ]
          },
          "metadata": {},
          "execution_count": 79
        }
      ]
    },
    {
      "cell_type": "code",
      "execution_count": null,
      "metadata": {
        "colab": {
          "base_uri": "https://localhost:8080/"
        },
        "id": "9ynk6Lgudu8g",
        "outputId": "e0d78fd8-e28e-42ab-d57b-dd194eaca707"
      },
      "outputs": [
        {
          "output_type": "execute_result",
          "data": {
            "text/plain": [
              "0.14856"
            ]
          },
          "metadata": {},
          "execution_count": 80
        }
      ],
      "source": [
        "# Error\n",
        "mae"
      ]
    }
  ]
}